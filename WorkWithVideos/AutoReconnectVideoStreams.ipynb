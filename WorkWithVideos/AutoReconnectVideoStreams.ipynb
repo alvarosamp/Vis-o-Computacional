{
 "cells": [
  {
   "cell_type": "code",
   "id": "initial_id",
   "metadata": {
    "collapsed": true,
    "ExecuteTime": {
     "end_time": "2024-09-10T00:55:13.487978Z",
     "start_time": "2024-09-10T00:55:12.204576Z"
    }
   },
   "source": [
    "import cv2\n",
    "import requests  \n",
    "import time  \n",
    "\n",
    "class VideoCapture:\n",
    "    def __init__(self, cam_address, cam_force_address=None, blocking=False):\n",
    "        \"\"\"\n",
    "        cam_address: ip address of the camera feed\n",
    "        cam_force_address: ip address to disconnect other clients (forcefully take over)\n",
    "        blocking: if true read() and connect_camera() methods blocked until ip camera is reconnected\n",
    "        \"\"\"\n",
    "        self.cam_address = cam_address\n",
    "        self.cam_force_address = cam_force_address\n",
    "        self.blocking = blocking\n",
    "        self.capture = None\n",
    "        \n",
    "        # NOTE: Can be increased to reduce printing\n",
    "        self.RECONNECTION_PERIOD = 0.5\n",
    "        # Calls the connect method\n",
    "        self.connect_camera()\n",
    "\n",
    "    def connect_camera(self):\n",
    "        print(\"Connecting...\")\n",
    "        while True:\n",
    "            try:\n",
    "                if self.cam_force_address is not None:\n",
    "                    requests.get(self.cam_force_address)\n",
    "\n",
    "                self.capture = cv2.VideoCapture(self.cam_address)\n",
    "\n",
    "                if not self.capture.isOpened():\n",
    "                    time.sleep(self.RECONNECTION_PERIOD)\n",
    "                    raise Exception(\"Could not connect to a camera: {0}\".format(self.cam_address))\n",
    "\n",
    "                print(\"Connected to a camera: {}\".format(self.cam_address))\n",
    "\n",
    "                break\n",
    "            except Exception as e:\n",
    "                print(e)\n",
    "\n",
    "                if self.blocking is False:\n",
    "                    break\n",
    "\n",
    "                time.sleep(self.RECONNECTION_PERIOD)\n",
    "\n",
    "    def getStream(self):\n",
    "        \"\"\"\n",
    "        Reads frame and if frame is not received tries to reconnect the camera\n",
    "\n",
    "        :return: ret - bool witch specifies if frame was read successfully\n",
    "                 frame - opencv image from the camera\n",
    "        \"\"\"\n",
    "\n",
    "        ret, frame = self.capture.read()\n",
    "\n",
    "        # If feed goes down we try to reconnect\n",
    "        if ret is False:\n",
    "            self.connect_camera()\n",
    "\n",
    "        return ret, frame"
   ],
   "outputs": [],
   "execution_count": 1
  },
  {
   "metadata": {
    "jupyter": {
     "is_executing": true
    },
    "ExecuteTime": {
     "start_time": "2024-09-10T00:55:14.805290Z"
    }
   },
   "cell_type": "code",
   "source": [
    "cap = VideoCapture(\"rtsp://wowzaec2demo.streamlock.net/vod/mp4:BigBuckBunny_115k.mov\")\n",
    "\n",
    "while(1):\n",
    "    ret, frame = cap.getStream()\n",
    "    \n",
    "    # Note this will keep the loop running until you force the program to exit\n",
    "    try:\n",
    "        cv2.imshow('RTSP Stream', frame)\n",
    "    except:\n",
    "        print(\"Feed has gone down...\")\n",
    "        \n",
    "    if cv2.waitKey(1) == 13: #13 is the Enter Key\n",
    "        print(\"Exited...\")\n",
    "        break\n",
    "        \n",
    "# Release camera and close windows\n",
    "cv2.destroyAllWindows()   "
   ],
   "id": "d7761a2774dd4e04",
   "outputs": [
    {
     "name": "stdout",
     "output_type": "stream",
     "text": [
      "Connecting...\n"
     ]
    }
   ],
   "execution_count": null
  },
  {
   "metadata": {},
   "cell_type": "code",
   "outputs": [],
   "execution_count": null,
   "source": "",
   "id": "6cdea8e1b47bfe98"
  }
 ],
 "metadata": {
  "kernelspec": {
   "display_name": "Python 3",
   "language": "python",
   "name": "python3"
  },
  "language_info": {
   "codemirror_mode": {
    "name": "ipython",
    "version": 2
   },
   "file_extension": ".py",
   "mimetype": "text/x-python",
   "name": "python",
   "nbconvert_exporter": "python",
   "pygments_lexer": "ipython2",
   "version": "2.7.6"
  }
 },
 "nbformat": 4,
 "nbformat_minor": 5
}
