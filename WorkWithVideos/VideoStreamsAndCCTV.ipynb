{
 "cells": [
  {
   "metadata": {},
   "cell_type": "markdown",
   "source": [
    "### **RTSP Real Time Streaming Protocol**\n",
    "\n",
    "RSPT is client-server multimedia presentation control protocol, designed to address the needs for efficient delivery of streamed multimedia over IP networks. The underlying protocol used for RTSP is RTP protocol. \n",
    "\n",
    "RTSP was developed by RealNetworks, Netscape and Columbia University around 1996. It a protocol that is used for transferring real-time multimedia data (e.g audio/video) between client and a server. Usually a Client requests and server responds to the request with the data over this protocol. As it is a streaming protocol, with real time capability which means that the data is being simultaneously transferred and rendered in realtime. Here the multimedia data is encapsulated under Real-time Transport Protocol (RTP) packets. So its not RTSP who does the work, its the RTP. Most of the \n",
    "\n",
    "![](https://upload.wikimedia.org/wikipedia/commons/3/38/Zuragb.jpg)"
   ],
   "id": "1245ae0e1ab5f726"
  },
  {
   "cell_type": "code",
   "id": "initial_id",
   "metadata": {
    "collapsed": true,
    "ExecuteTime": {
     "end_time": "2024-09-10T00:48:17.902780Z",
     "start_time": "2024-09-10T00:46:46.060512Z"
    }
   },
   "source": [
    "import cv2 \n",
    "\n",
    "# Our Free Test RSTP Link\n",
    "# You can configure your CCTV IPTV Cameras to output a RSTP Stream\n",
    "cap = cv2.VideoCapture(\"rtsp://wowzaec2demo.streamlock.net/vod/mp4:BigBuckBunny_115k.mov\")\n",
    "\n",
    "while(1):\n",
    "    ret, frame = cap.read()\n",
    "\n",
    "    cv2.imshow('RTSP Stream', frame)\n",
    "    \n",
    "    if cv2.waitKey(1) == 13: #13 is the Enter Key\n",
    "        break\n",
    "        \n",
    "# Release camera and close windows\n",
    "cap.release()\n",
    "cv2.destroyAllWindows()      "
   ],
   "outputs": [
    {
     "ename": "error",
     "evalue": "OpenCV(4.8.0) D:\\a\\opencv-python\\opencv-python\\opencv\\modules\\highgui\\src\\window.cpp:971: error: (-215:Assertion failed) size.width>0 && size.height>0 in function 'cv::imshow'\n",
     "output_type": "error",
     "traceback": [
      "\u001B[1;31m---------------------------------------------------------------------------\u001B[0m",
      "\u001B[1;31merror\u001B[0m                                     Traceback (most recent call last)",
      "Cell \u001B[1;32mIn[1], line 10\u001B[0m\n\u001B[0;32m      7\u001B[0m \u001B[38;5;28;01mwhile\u001B[39;00m(\u001B[38;5;241m1\u001B[39m):\n\u001B[0;32m      8\u001B[0m     ret, frame \u001B[38;5;241m=\u001B[39m cap\u001B[38;5;241m.\u001B[39mread()\n\u001B[1;32m---> 10\u001B[0m     \u001B[43mcv2\u001B[49m\u001B[38;5;241;43m.\u001B[39;49m\u001B[43mimshow\u001B[49m\u001B[43m(\u001B[49m\u001B[38;5;124;43m'\u001B[39;49m\u001B[38;5;124;43mRTSP Stream\u001B[39;49m\u001B[38;5;124;43m'\u001B[39;49m\u001B[43m,\u001B[49m\u001B[43m \u001B[49m\u001B[43mframe\u001B[49m\u001B[43m)\u001B[49m\n\u001B[0;32m     12\u001B[0m     \u001B[38;5;28;01mif\u001B[39;00m cv2\u001B[38;5;241m.\u001B[39mwaitKey(\u001B[38;5;241m1\u001B[39m) \u001B[38;5;241m==\u001B[39m \u001B[38;5;241m13\u001B[39m: \u001B[38;5;66;03m#13 is the Enter Key\u001B[39;00m\n\u001B[0;32m     13\u001B[0m         \u001B[38;5;28;01mbreak\u001B[39;00m\n",
      "\u001B[1;31merror\u001B[0m: OpenCV(4.8.0) D:\\a\\opencv-python\\opencv-python\\opencv\\modules\\highgui\\src\\window.cpp:971: error: (-215:Assertion failed) size.width>0 && size.height>0 in function 'cv::imshow'\n"
     ]
    }
   ],
   "execution_count": 1
  },
  {
   "metadata": {},
   "cell_type": "code",
   "source": "!pip install imagezmq",
   "id": "5e111da59a3a4faa",
   "outputs": [],
   "execution_count": null
  },
  {
   "metadata": {
    "jupyter": {
     "is_executing": true
    },
    "ExecuteTime": {
     "start_time": "2024-09-10T00:54:10.184111Z"
    }
   },
   "cell_type": "code",
   "source": [
    "import cv2\n",
    "import imagezmq\n",
    "image_hub = imagezmq.ImageHub()\n",
    "while True:\n",
    "    rpi_name, image = image_hub.recv_image()\n",
    "    cv2.imshow(rpi_name, image)\n",
    "    cv2.waitKey(1)\n",
    "    image_hub.send_image(b'OK')"
   ],
   "id": "2449de5c6a4f6580",
   "outputs": [],
   "execution_count": null
  },
  {
   "metadata": {},
   "cell_type": "code",
   "outputs": [],
   "execution_count": null,
   "source": "",
   "id": "3ac965097997fd73"
  }
 ],
 "metadata": {
  "kernelspec": {
   "display_name": "Python 3",
   "language": "python",
   "name": "python3"
  },
  "language_info": {
   "codemirror_mode": {
    "name": "ipython",
    "version": 2
   },
   "file_extension": ".py",
   "mimetype": "text/x-python",
   "name": "python",
   "nbconvert_exporter": "python",
   "pygments_lexer": "ipython2",
   "version": "2.7.6"
  }
 },
 "nbformat": 4,
 "nbformat_minor": 5
}
