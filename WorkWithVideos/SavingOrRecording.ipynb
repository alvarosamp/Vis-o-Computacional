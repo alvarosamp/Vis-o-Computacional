{
 "cells": [
  {
   "metadata": {},
   "cell_type": "markdown",
   "source": [
    "When using the **VideoWriter** object. We need to specify:\n",
    "1. the output file name and \n",
    "2. the FourCC code\n",
    "3. the number of frames per second (fps) \n",
    "4. the frame size\n",
    "5. the isColor flag (if True, the encoder expect color frame, otherwise it works with grayscale frame)\n",
    "\n",
    "**FourCC** is a 4-byte code used to specify the video codec. \n",
    "\n",
    "The list of available codes can be found in fourcc.org. It is platform dependent. The following codecs should work fine for most.\n",
    "\n",
    "- In Fedora: DIVX, XVID, MJPG, X264, WMV1, WMV2. (XVID is more preferable. MJPG results in high size video. X264 gives very small size video)\n",
    "- In Windows: DIVX (More to be tested and added)\n",
    "- In OSX: MJPG (.mp4), DIVX (.avi), X264 (.mkv).\n",
    "\n",
    "FourCC code is passed as `cv.VideoWriter_fourcc('M','J','P','G')or cv.VideoWriter_fourcc(*'MJPG')` for MJPG."
   ],
   "id": "2272048223b4982e"
  },
  {
   "cell_type": "code",
   "id": "initial_id",
   "metadata": {
    "collapsed": true,
    "ExecuteTime": {
     "end_time": "2024-09-10T00:43:38.863731Z",
     "start_time": "2024-09-10T00:43:35.870273Z"
    }
   },
   "source": [
    "import cv2\n",
    "#Load video clip\n",
    "cap = cv2.VideoCapture('C:/Users/Alvaro/Desktop/Udemy-IA/Visao Computacional/WorkWithVideos/drummer.mp4')\n",
    "\n",
    "w = int(cap.get(3))\n",
    "h = int(cap.get(4))\n",
    "\n",
    "#Define the codec and create VideoWriter object.\n",
    "out = cv2.VideoWriter('drummer.avi', cv2.VideoWriter_fourcc('M','J','P','G'), 30, (w, h), False)\n",
    "while (1):\n",
    "    ret, frame = cap.read()\n",
    "    if ret == True:\n",
    "        gray = cv2.cvtColor(frame, cv2.COLOR_BGR2GRAY)\n",
    "        out.write(gray)\n",
    "    else:\n",
    "        break\n",
    "        print(\"Converted Video to Grayscale\")\n",
    "        \n",
    "cap.release()\n",
    "out.release()\n",
    "cv2.destroyAllWindows()"
   ],
   "outputs": [],
   "execution_count": 2
  },
  {
   "metadata": {},
   "cell_type": "code",
   "outputs": [],
   "execution_count": null,
   "source": "",
   "id": "a9858290f5ca5eb"
  }
 ],
 "metadata": {
  "kernelspec": {
   "display_name": "Python 3",
   "language": "python",
   "name": "python3"
  },
  "language_info": {
   "codemirror_mode": {
    "name": "ipython",
    "version": 2
   },
   "file_extension": ".py",
   "mimetype": "text/x-python",
   "name": "python",
   "nbconvert_exporter": "python",
   "pygments_lexer": "ipython2",
   "version": "2.7.6"
  }
 },
 "nbformat": 4,
 "nbformat_minor": 5
}
