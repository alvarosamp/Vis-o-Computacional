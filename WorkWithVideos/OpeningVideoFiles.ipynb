{
 "cells": [
  {
   "metadata": {},
   "cell_type": "markdown",
   "source": [
    "## Openning Videos in OpenCV\n",
    "**In this lesson we'll learn:**\n",
    "1. Open a video using cv2.VideoCapture()\n",
    "\n",
    "**NOTE:**\n",
    "\n",
    "AVI video formats are universally supported by all versions of OpenCV so if you're prioritizing cross platform compatibility use .AVI files.\n",
    "\n",
    "**Other commonly suppported Video Codecs**\n",
    "1. MPEG4 or MP4\n",
    "2. FLV\n",
    "\n",
    "The full list of codecs you may use on a system depends on just what one you have installed."
   ],
   "id": "41dac4ba679835d7"
  },
  {
   "cell_type": "code",
   "id": "initial_id",
   "metadata": {
    "collapsed": true,
    "ExecuteTime": {
     "end_time": "2024-09-09T23:55:24.972677Z",
     "start_time": "2024-09-09T23:55:23.370809Z"
    }
   },
   "source": [
    "import cv2\n",
    "cap = cv2.VideoCapture('C:/Users/Alvaro/Desktop/Udemy-IA/Visao Computacional/WorkWithVideos/drummer.mp4')\n",
    "while cap.isOpened():\n",
    "    ret, frame = cap.read()\n",
    "    \n",
    "    if not ret:\n",
    "        print(\"Stream stopped.\")\n",
    "        break\n",
    "        cv2.imshow('Video', frame)\n",
    "        if cv2.waitKey(1) == ord('q'):\n",
    "            break\n",
    "            \n",
    "cap.release()\n",
    "cv2.destroyAllWindows()"
   ],
   "outputs": [
    {
     "name": "stdout",
     "output_type": "stream",
     "text": [
      "Stream stopped.\n"
     ]
    }
   ],
   "execution_count": 1
  },
  {
   "metadata": {
    "ExecuteTime": {
     "end_time": "2024-09-09T23:56:55.603278Z",
     "start_time": "2024-09-09T23:56:52.437494Z"
    }
   },
   "cell_type": "code",
   "source": [
    "import cv2\n",
    "\n",
    "cap = cv2.VideoCapture('C:/Users/Alvaro/Desktop/Udemy-IA/Visao Computacional/WorkWithVideos/drummer.mp4')\n",
    "\n",
    "if not cap.isOpened():\n",
    "    print(\"Cannot open camera\")\n",
    "    exit()\n",
    "\n",
    "while cap.isOpened():\n",
    "    \n",
    "    ret, frame = cap.read()\n",
    "    \n",
    "    # if frame is read correctly ret is True\n",
    "    if not ret:\n",
    "        print(\"Stream stopped.\")\n",
    "        break\n",
    "\n",
    "    cv2.imshow('Video', frame)\n",
    "    \n",
    "    if cv2.waitKey(1) == ord('q'):\n",
    "        break\n",
    "    \n",
    "        \n",
    "cap.release()\n",
    "cv2.destroyAllWindows()"
   ],
   "id": "2cc00aa454b37d58",
   "outputs": [
    {
     "name": "stdout",
     "output_type": "stream",
     "text": [
      "Stream stopped.\n"
     ]
    }
   ],
   "execution_count": 2
  },
  {
   "metadata": {
    "ExecuteTime": {
     "end_time": "2024-09-09T23:56:58.877600Z",
     "start_time": "2024-09-09T23:56:58.749848Z"
    }
   },
   "cell_type": "code",
   "source": [
    "import cv2\n",
    "\n",
    "cap = cv2.VideoCapture('./videos/drummer.mp4')\n",
    "\n",
    "for i in range(0,18):\n",
    "    print(cap.get(i))"
   ],
   "id": "ec0ac3c5387c79b4",
   "outputs": [
    {
     "name": "stdout",
     "output_type": "stream",
     "text": [
      "0.0\n",
      "0.0\n",
      "0.0\n",
      "0.0\n",
      "0.0\n",
      "0.0\n",
      "0.0\n",
      "0.0\n",
      "0.0\n",
      "0.0\n",
      "0.0\n",
      "0.0\n",
      "0.0\n",
      "0.0\n",
      "0.0\n",
      "0.0\n",
      "0.0\n",
      "0.0\n"
     ]
    }
   ],
   "execution_count": 3
  },
  {
   "metadata": {},
   "cell_type": "code",
   "outputs": [],
   "execution_count": null,
   "source": "",
   "id": "e0cccd8370da968"
  }
 ],
 "metadata": {
  "kernelspec": {
   "display_name": "Python 3",
   "language": "python",
   "name": "python3"
  },
  "language_info": {
   "codemirror_mode": {
    "name": "ipython",
    "version": 2
   },
   "file_extension": ".py",
   "mimetype": "text/x-python",
   "name": "python",
   "nbconvert_exporter": "python",
   "pygments_lexer": "ipython2",
   "version": "2.7.6"
  }
 },
 "nbformat": 4,
 "nbformat_minor": 5
}
