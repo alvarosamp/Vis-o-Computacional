{
  "nbformat": 4,
  "nbformat_minor": 0,
  "metadata": {
    "colab": {
      "provenance": []
    },
    "kernelspec": {
      "name": "python3",
      "display_name": "Python 3"
    },
    "language_info": {
      "name": "python"
    }
  },
  "cells": [
    {
      "cell_type": "markdown",
      "source": [
        "# **Simple Object Tracking by Color**\n",
        "\n",
        "####**In this lesson we'll learn:**\n",
        "1. How to use an HSV Color Filter to Create a Mask and then Track our Desired Object\n"
      ],
      "metadata": {
        "id": "91fHnko4V_y8"
      }
    },
    {
      "cell_type": "code",
      "execution_count": 1,
      "metadata": {
        "id": "9Uhc2k8RV2Re"
      },
      "outputs": [],
      "source": [
        "import cv2\n",
        "import numpy as np\n",
        "import matplotlib.pyplot as plt\n",
        "\n",
        "def imshow(title = \"Image\", image = None, size = 10):\n",
        "  w, h = image.shape[0], image.shape[1]\n",
        "  aspect_ratio = w/h\n",
        "  plt.figure(figsize=(size * aspect_ratio,size))\n",
        "  plt.imshow(cv2.cvtColor(image, cv2.COLOR_BGR2RGB))\n",
        "  plt.title(title)\n",
        "  plt.show()\n",
        "!wget https://moderncomputervision.s3.eu-west-2.amazonaws.com/bmwm4.mp4"
      ]
    },
    {
      "cell_type": "markdown",
      "source": [
        "#Object tracking\n"
      ],
      "metadata": {
        "id": "Vg5ehbH4XAbo"
      }
    },
    {
      "cell_type": "code",
      "source": [
        "#Object Tracking\n",
        "import cv2\n",
        "import numpy as np\n",
        "\n",
        "# Initalize camera\n",
        "#cap = cv2.VideoCapture(0)\n",
        "\n",
        "# define range of color in HSV\n",
        "lower = np.array([20,50,90])\n",
        "upper = np.array([40,255,255])\n",
        "\n",
        "# Create empty points array\n",
        "points = []\n",
        "\n",
        "# Get default camera window size\n",
        "\n",
        "# Load video stream, long clip\n",
        "cap = cv2.VideoCapture('bmwm4.mp4')\n",
        "\n",
        "# Get the height and width of the frame (required to be an interger)\n",
        "width = int(cap.get(3))\n",
        "height = int(cap.get(4))\n",
        "\n",
        "# Define the codec and create VideoWriter object. The output is stored in '*.avi' file.\n",
        "out = cv2.VideoWriter('bmwm4_output.avi', cv2.VideoWriter_fourcc('M','J','P','G'), 30, (width, height))\n",
        "\n",
        "ret, frame = cap.read()\n",
        "Height, Width = frame.shape[:2]\n",
        "frame_count = 0\n",
        "radius = 0\n",
        "\n",
        "while True:\n",
        "\n",
        "    # Capture webcame frame\n",
        "    ret, frame = cap.read()\n",
        "    if ret:\n",
        "      hsv_img = cv2.cvtColor(frame, cv2.COLOR_BGR2HSV)\n",
        "\n",
        "      # Threshold the HSV image to get only green colors\n",
        "      mask = cv2.inRange(hsv_img, lower, upper)\n",
        "      #mask = cv2.morphologyEx(mask, cv2.MORPH_OPEN, kernel)\n",
        "\n",
        "      contours, _ = cv2.findContours(mask.copy(), cv2.RETR_EXTERNAL, cv2.CHAIN_APPROX_SIMPLE)\n",
        "\n",
        "      # Create empty centre array to store centroid center of mass\n",
        "      center =   int(Height/2), int(Width/2)\n",
        "\n",
        "      if len(contours) > 0:\n",
        "\n",
        "          # Get the largest contour and its center\n",
        "          c = max(contours, key=cv2.contourArea)\n",
        "          (x, y), radius = cv2.minEnclosingCircle(c)\n",
        "          M = cv2.moments(c)\n",
        "\n",
        "          # Sometimes small contours of a point will cause a divison by zero error\n",
        "          try:\n",
        "              center = (int(M[\"m10\"] / M[\"m00\"]), int(M[\"m01\"] / M[\"m00\"]))\n",
        "\n",
        "          except:\n",
        "              center =   int(Height/2), int(Width/2)\n",
        "\n",
        "          # Allow only countors that have a larger than 25 pixel radius\n",
        "          if radius > 25:\n",
        "\n",
        "              # Draw cirlce and leave the last center creating a trail\n",
        "              cv2.circle(frame, (int(x), int(y)), int(radius),(0, 0, 255), 2)\n",
        "              cv2.circle(frame, center, 5, (0, 255, 0), -1)\n",
        "\n",
        "          # Log center points\n",
        "          points.append(center)\n",
        "\n",
        "      # If radius large enough, we use 25 pixels\n",
        "      if radius > 25:\n",
        "\n",
        "          # loop over the set of tracked points\n",
        "          for i in range(1, len(points)):\n",
        "              try:\n",
        "                  cv2.line(frame, points[i - 1], points[i], (0, 255, 0), 2)\n",
        "              except:\n",
        "                  pass\n",
        "\n",
        "          # Make frame count zero\n",
        "          frame_count = 0\n",
        "\n",
        "      out.write(frame)\n",
        "    else:\n",
        "      break\n",
        "\n",
        "# Release camera and close any open windows\n",
        "cap.release()\n",
        "out.release()"
      ],
      "metadata": {
        "colab": {
          "base_uri": "https://localhost:8080/",
          "height": 211
        },
        "id": "7DqdjEFvWaES",
        "outputId": "4bd87eed-6e40-4bf6-ef68-86a855b4912e"
      },
      "execution_count": 8,
      "outputs": [
        {
          "output_type": "error",
          "ename": "AttributeError",
          "evalue": "'NoneType' object has no attribute 'shape'",
          "traceback": [
            "\u001b[0;31m---------------------------------------------------------------------------\u001b[0m",
            "\u001b[0;31mAttributeError\u001b[0m                            Traceback (most recent call last)",
            "\u001b[0;32m<ipython-input-8-851301c959bc>\u001b[0m in \u001b[0;36m<cell line: 28>\u001b[0;34m()\u001b[0m\n\u001b[1;32m     26\u001b[0m \u001b[0;34m\u001b[0m\u001b[0m\n\u001b[1;32m     27\u001b[0m \u001b[0mret\u001b[0m\u001b[0;34m,\u001b[0m \u001b[0mframe\u001b[0m \u001b[0;34m=\u001b[0m \u001b[0mcap\u001b[0m\u001b[0;34m.\u001b[0m\u001b[0mread\u001b[0m\u001b[0;34m(\u001b[0m\u001b[0;34m)\u001b[0m\u001b[0;34m\u001b[0m\u001b[0;34m\u001b[0m\u001b[0m\n\u001b[0;32m---> 28\u001b[0;31m \u001b[0mHeight\u001b[0m\u001b[0;34m,\u001b[0m \u001b[0mWidth\u001b[0m \u001b[0;34m=\u001b[0m \u001b[0mframe\u001b[0m\u001b[0;34m.\u001b[0m\u001b[0mshape\u001b[0m\u001b[0;34m[\u001b[0m\u001b[0;34m:\u001b[0m\u001b[0;36m2\u001b[0m\u001b[0;34m]\u001b[0m\u001b[0;34m\u001b[0m\u001b[0;34m\u001b[0m\u001b[0m\n\u001b[0m\u001b[1;32m     29\u001b[0m \u001b[0mframe_count\u001b[0m \u001b[0;34m=\u001b[0m \u001b[0;36m0\u001b[0m\u001b[0;34m\u001b[0m\u001b[0;34m\u001b[0m\u001b[0m\n\u001b[1;32m     30\u001b[0m \u001b[0mradius\u001b[0m \u001b[0;34m=\u001b[0m \u001b[0;36m0\u001b[0m\u001b[0;34m\u001b[0m\u001b[0;34m\u001b[0m\u001b[0m\n",
            "\u001b[0;31mAttributeError\u001b[0m: 'NoneType' object has no attribute 'shape'"
          ]
        }
      ]
    },
    {
      "cell_type": "code",
      "source": [
        "!ffmpeg -i /content/bmwm4_output.avi bmwm4_output.mp4 -y"
      ],
      "metadata": {
        "colab": {
          "base_uri": "https://localhost:8080/"
        },
        "id": "39bao58MXOeM",
        "outputId": "5294a97d-31f8-4f22-9f30-d60c7c737365"
      },
      "execution_count": 6,
      "outputs": [
        {
          "output_type": "stream",
          "name": "stdout",
          "text": [
            "ffmpeg version 4.4.2-0ubuntu0.22.04.1 Copyright (c) 2000-2021 the FFmpeg developers\n",
            "  built with gcc 11 (Ubuntu 11.2.0-19ubuntu1)\n",
            "  configuration: --prefix=/usr --extra-version=0ubuntu0.22.04.1 --toolchain=hardened --libdir=/usr/lib/x86_64-linux-gnu --incdir=/usr/include/x86_64-linux-gnu --arch=amd64 --enable-gpl --disable-stripping --enable-gnutls --enable-ladspa --enable-libaom --enable-libass --enable-libbluray --enable-libbs2b --enable-libcaca --enable-libcdio --enable-libcodec2 --enable-libdav1d --enable-libflite --enable-libfontconfig --enable-libfreetype --enable-libfribidi --enable-libgme --enable-libgsm --enable-libjack --enable-libmp3lame --enable-libmysofa --enable-libopenjpeg --enable-libopenmpt --enable-libopus --enable-libpulse --enable-librabbitmq --enable-librubberband --enable-libshine --enable-libsnappy --enable-libsoxr --enable-libspeex --enable-libsrt --enable-libssh --enable-libtheora --enable-libtwolame --enable-libvidstab --enable-libvorbis --enable-libvpx --enable-libwebp --enable-libx265 --enable-libxml2 --enable-libxvid --enable-libzimg --enable-libzmq --enable-libzvbi --enable-lv2 --enable-omx --enable-openal --enable-opencl --enable-opengl --enable-sdl2 --enable-pocketsphinx --enable-librsvg --enable-libmfx --enable-libdc1394 --enable-libdrm --enable-libiec61883 --enable-chromaprint --enable-frei0r --enable-libx264 --enable-shared\n",
            "  libavutil      56. 70.100 / 56. 70.100\n",
            "  libavcodec     58.134.100 / 58.134.100\n",
            "  libavformat    58. 76.100 / 58. 76.100\n",
            "  libavdevice    58. 13.100 / 58. 13.100\n",
            "  libavfilter     7.110.100 /  7.110.100\n",
            "  libswscale      5.  9.100 /  5.  9.100\n",
            "  libswresample   3.  9.100 /  3.  9.100\n",
            "  libpostproc    55.  9.100 / 55.  9.100\n",
            "\u001b[0;35m[avi @ 0x558ab6d33000] \u001b[0m\u001b[0;33mCould not find codec parameters for stream 0 (Video: mjpeg (MJPG / 0x47504A4D), none(bt470bg/unknown/unknown)): unspecified size\n",
            "Consider increasing the value for the 'analyzeduration' (0) and 'probesize' (5000000) options\n",
            "\u001b[0mInput #0, avi, from '/content/bmwm4_output.avi':\n",
            "  Duration: N/A, start: 0.000000, bitrate: N/A\n",
            "  Stream #0:0: Video: mjpeg (MJPG / 0x47504A4D), none(bt470bg/unknown/unknown), 30 fps, 30 tbr, 30 tbn, 30 tbc\n",
            "Output #0, mp4, to 'bmwm4_output.mp4':\n",
            "\u001b[1;31mOutput file #0 does not contain any stream\n",
            "\u001b[0m"
          ]
        }
      ]
    },
    {
      "cell_type": "code",
      "source": [
        "from IPython.display import HTML\n",
        "from base64 import b64encode\n",
        "\n",
        "mp4 = open('bmwm4_output.mp4','rb').read()\n",
        "data_url = \"data:video/mp4;base64,\" + b64encode(mp4).decode()"
      ],
      "metadata": {
        "colab": {
          "base_uri": "https://localhost:8080/",
          "height": 193
        },
        "id": "fjiardcCYV1x",
        "outputId": "c14111bd-533a-4742-ac4a-eb0a77cf7e33"
      },
      "execution_count": 7,
      "outputs": [
        {
          "output_type": "error",
          "ename": "FileNotFoundError",
          "evalue": "[Errno 2] No such file or directory: 'bmwm4_output.mp4'",
          "traceback": [
            "\u001b[0;31m---------------------------------------------------------------------------\u001b[0m",
            "\u001b[0;31mFileNotFoundError\u001b[0m                         Traceback (most recent call last)",
            "\u001b[0;32m<ipython-input-7-049090cc90ff>\u001b[0m in \u001b[0;36m<cell line: 4>\u001b[0;34m()\u001b[0m\n\u001b[1;32m      2\u001b[0m \u001b[0;32mfrom\u001b[0m \u001b[0mbase64\u001b[0m \u001b[0;32mimport\u001b[0m \u001b[0mb64encode\u001b[0m\u001b[0;34m\u001b[0m\u001b[0;34m\u001b[0m\u001b[0m\n\u001b[1;32m      3\u001b[0m \u001b[0;34m\u001b[0m\u001b[0m\n\u001b[0;32m----> 4\u001b[0;31m \u001b[0mmp4\u001b[0m \u001b[0;34m=\u001b[0m \u001b[0mopen\u001b[0m\u001b[0;34m(\u001b[0m\u001b[0;34m'bmwm4_output.mp4'\u001b[0m\u001b[0;34m,\u001b[0m\u001b[0;34m'rb'\u001b[0m\u001b[0;34m)\u001b[0m\u001b[0;34m.\u001b[0m\u001b[0mread\u001b[0m\u001b[0;34m(\u001b[0m\u001b[0;34m)\u001b[0m\u001b[0;34m\u001b[0m\u001b[0;34m\u001b[0m\u001b[0m\n\u001b[0m\u001b[1;32m      5\u001b[0m \u001b[0mdata_url\u001b[0m \u001b[0;34m=\u001b[0m \u001b[0;34m\"data:video/mp4;base64,\"\u001b[0m \u001b[0;34m+\u001b[0m \u001b[0mb64encode\u001b[0m\u001b[0;34m(\u001b[0m\u001b[0mmp4\u001b[0m\u001b[0;34m)\u001b[0m\u001b[0;34m.\u001b[0m\u001b[0mdecode\u001b[0m\u001b[0;34m(\u001b[0m\u001b[0;34m)\u001b[0m\u001b[0;34m\u001b[0m\u001b[0;34m\u001b[0m\u001b[0m\n",
            "\u001b[0;31mFileNotFoundError\u001b[0m: [Errno 2] No such file or directory: 'bmwm4_output.mp4'"
          ]
        }
      ]
    },
    {
      "cell_type": "code",
      "source": [
        "HTML(\"\"\"\n",
        "<video controls>\n",
        "      <source src=\"%s\" type=\"video/mp4\">\n",
        "</video>\n",
        "\"\"\" % data_url)"
      ],
      "metadata": {
        "id": "khDI-R6NYdsb"
      },
      "execution_count": null,
      "outputs": []
    }
  ]
}